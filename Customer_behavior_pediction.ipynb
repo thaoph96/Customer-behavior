{
  "cells": [
    {
      "cell_type": "code",
      "execution_count": null,
      "id": "787ca6bf",
      "metadata": {
        "id": "787ca6bf"
      },
      "outputs": [],
      "source": [
        "import numpy as np\n",
        "import mltools as ml\n",
        "import matplotlib.pyplot as plt"
      ]
    },
    {
      "cell_type": "code",
      "execution_count": null,
      "id": "542c9262",
      "metadata": {
        "id": "542c9262"
      },
      "outputs": [],
      "source": [
        "# Import training and testing data\n",
        "X = np.genfromtxt('data/X_train.txt', delimiter=',')\n",
        "Y = np.genfromtxt('data/Y_train.txt', delimiter= None)\n",
        "Xte = np.genfromtxt('data/X_test.txt', delimiter=',')\n",
        "np.random.seed(0)"
      ]
    },
    {
      "cell_type": "code",
      "execution_count": null,
      "id": "5a8906d5",
      "metadata": {
        "scrolled": true,
        "id": "5a8906d5",
        "outputId": "35c1f3fa-925c-4303-d8a8-79839922a166"
      },
      "outputs": [
        {
          "name": "stdout",
          "output_type": "stream",
          "text": [
            "(7423, 107) ,  (7423,) ,  (7422, 107)\n"
          ]
        }
      ],
      "source": [
        "# Explore the data\n",
        "print(X.shape, ', ', Y.shape, ', ',Xte.shape)"
      ]
    },
    {
      "cell_type": "code",
      "execution_count": null,
      "id": "ff5d841b",
      "metadata": {
        "id": "ff5d841b",
        "outputId": "5c1fbdce-ca5e-45a7-85dc-7235d692c3f5"
      },
      "outputs": [
        {
          "name": "stdout",
          "output_type": "stream",
          "text": [
            "[0. 1.]\n",
            "3671.0 7423\n"
          ]
        }
      ],
      "source": [
        "print(np.unique(Y)) # 2 classes\n",
        "print(np.sum(Y), len(Y))"
      ]
    },
    {
      "cell_type": "code",
      "execution_count": null,
      "id": "6aa8d8a5",
      "metadata": {
        "id": "6aa8d8a5"
      },
      "outputs": [],
      "source": [
        "# Split data into training and validation and randomly shuffle the order of data\n",
        "Xtr, Xva, Ytr, Yva = ml.splitData(X, Y)\n",
        "Xtr, Ytr = ml.shuffleData(Xtr, Ytr)\n",
        "\n",
        "# Taking a subsample of the data so that trains faster.  You should train on whole data for homework and Kaggle.\n",
        "Xt, Yt = Xtr[:4000], Ytr[:4000]"
      ]
    },
    {
      "cell_type": "code",
      "execution_count": null,
      "id": "8b55b47f",
      "metadata": {
        "id": "8b55b47f"
      },
      "outputs": [],
      "source": [
        "# Scaling the data\n",
        "XtrP, params = ml.rescale(Xt)\n",
        "XvaP,_    = ml.rescale(Xva, params)\n",
        "XteP,_    = ml.rescale(Xte, params)"
      ]
    },
    {
      "cell_type": "code",
      "execution_count": null,
      "id": "74d612ab",
      "metadata": {
        "id": "74d612ab",
        "outputId": "ac48ece7-2430-45e5-99e2-84caf41cdfbd"
      },
      "outputs": [
        {
          "name": "stderr",
          "output_type": "stream",
          "text": [
            "/Users/lynnpham/Documents/School Work/CS 178/Final project/mltools/base.py:97: RuntimeWarning: divide by zero encountered in log\n",
            "  return - np.mean( np.log( P[ np.arange(M), Y ] ) ) # evaluate\n",
            "/Users/lynnpham/Documents/School Work/CS 178/Final project/mltools/linearC.py:134: RuntimeWarning: invalid value encountered in double_scalars\n",
            "  done = (it > stopIter) or ( (it>1) and (abs(Jsur[-1]-Jsur[-2])<stopTol) )\n"
          ]
        }
      ],
      "source": [
        "learner = ml.linearC.linearClassify()\n",
        "learner.train(XtrP, Yt, initStep= 0.1, stopTol=1e-6, stopIter=1000)"
      ]
    },
    {
      "cell_type": "code",
      "execution_count": null,
      "id": "8871ee22",
      "metadata": {
        "scrolled": true,
        "id": "8871ee22",
        "outputId": "979a706f-9ef6-495a-d99c-4469e590f380"
      },
      "outputs": [
        {
          "name": "stdout",
          "output_type": "stream",
          "text": [
            "Training error:  0.379\n",
            "validation error:  0.39057239057239057\n"
          ]
        }
      ],
      "source": [
        "print(\"Training error: \", learner.err(XtrP, Yt))\n",
        "print(\"validation error: \", learner.err(XvaP, Yva))"
      ]
    },
    {
      "cell_type": "code",
      "execution_count": null,
      "id": "93aab599",
      "metadata": {
        "scrolled": true,
        "id": "93aab599",
        "outputId": "fc7a73d5-3058-40d2-9d3b-ff1745bc74bc"
      },
      "outputs": [
        {
          "name": "stdout",
          "output_type": "stream",
          "text": [
            "      Train AUC: 0.6715\n",
            " Validation AUC: 0.5087\n"
          ]
        },
        {
          "name": "stderr",
          "output_type": "stream",
          "text": [
            "/Users/lynnpham/Documents/School Work/CS 178/Final project/mltools/linearC.py:82: RuntimeWarning: overflow encountered in exp\n",
            "  prob = np.exp(resp)\n",
            "/Users/lynnpham/Documents/School Work/CS 178/Final project/mltools/linearC.py:84: RuntimeWarning: invalid value encountered in true_divide\n",
            "  prob /= prob + 1.0       # logistic transform (binary classification; C=1)\n"
          ]
        }
      ],
      "source": [
        "print(\"{0:>15}: {1:.4f}\".format('Train AUC',learner.auc(XtrP, Yt)))\n",
        "print(\"{0:>15}: {1:.4f}\".format('Validation AUC', learner.auc(Xva, Yva)))"
      ]
    },
    {
      "cell_type": "markdown",
      "id": "4f1362bd",
      "metadata": {
        "id": "4f1362bd"
      },
      "source": [
        "# Loop to find best initStep and stopIter"
      ]
    },
    {
      "cell_type": "code",
      "execution_count": null,
      "id": "65f8095e",
      "metadata": {
        "id": "65f8095e"
      },
      "outputs": [],
      "source": [
        "probs = learner.predictSoft(XteP)"
      ]
    },
    {
      "cell_type": "code",
      "execution_count": null,
      "id": "39266128",
      "metadata": {
        "id": "39266128",
        "outputId": "14487f3b-6834-44c4-cd32-b1e07cfdedbb"
      },
      "outputs": [
        {
          "data": {
            "text/plain": [
              "array([[0.65245379, 0.34754621],\n",
              "       [0.73130572, 0.26869428],\n",
              "       [0.40623212, 0.59376788],\n",
              "       ...,\n",
              "       [0.46122651, 0.53877349],\n",
              "       [0.23609931, 0.76390069],\n",
              "       [0.66409821, 0.33590179]])"
            ]
          },
          "execution_count": 24,
          "metadata": {},
          "output_type": "execute_result"
        }
      ],
      "source": [
        "probs"
      ]
    },
    {
      "cell_type": "code",
      "execution_count": null,
      "id": "f9a7e02a",
      "metadata": {
        "id": "f9a7e02a"
      },
      "outputs": [],
      "source": [
        "Y_sub = np.vstack([np.arange(Xte.shape[0]), probs[:, 1]]).T\n",
        "np.savetxt('Y_sub.txt', Y_sub, '%d, %.5f', header='ID,Predicted', comments='', delimiter=',')"
      ]
    },
    {
      "cell_type": "code",
      "execution_count": null,
      "id": "92d2568a",
      "metadata": {
        "id": "92d2568a",
        "outputId": "67a0a375-679d-41f1-e1e8-30d6b2fa721b"
      },
      "outputs": [
        {
          "name": "stderr",
          "output_type": "stream",
          "text": [
            "/Users/lynnpham/Desktop/CS 178/Final project/mltools/linearC.py:134: RuntimeWarning: invalid value encountered in double_scalars\n",
            "  done = (it > stopIter) or ( (it>1) and (abs(Jsur[-1]-Jsur[-2])<stopTol) )\n"
          ]
        },
        {
          "name": "stdout",
          "output_type": "stream",
          "text": [
            "Training error:  0.39275\n",
            "validation error:  0.4\n"
          ]
        }
      ],
      "source": [
        "learner = ml.linearC.linearClassify()\n",
        "learner.train(XtrP, Yt, initStep= 0.5, stopTol=1e-6, stopIter=200)\n",
        "\n",
        "print(\"Training error: \", learner.err(XtrP, Yt))\n",
        "print(\"validation error: \", learner.err(XvaP, Yva))"
      ]
    },
    {
      "cell_type": "code",
      "execution_count": null,
      "id": "d3b40afc",
      "metadata": {
        "id": "d3b40afc",
        "outputId": "9dead5c7-7621-4bd5-9734-4a1cf9971d3e"
      },
      "outputs": [
        {
          "name": "stdout",
          "output_type": "stream",
          "text": [
            "Training error:  0.37775\n",
            "validation error:  0.3925925925925926\n"
          ]
        }
      ],
      "source": [
        "learner = ml.linearC.linearClassify()\n",
        "learner.train(XtrP, Yt, initStep= 0.5, stopTol=1e-6, stopIter=1000)\n",
        "\n",
        "print(\"Training error: \", learner.err(XtrP, Yt))\n",
        "print(\"validation error: \", learner.err(XvaP, Yva))"
      ]
    },
    {
      "cell_type": "code",
      "execution_count": null,
      "id": "e370f1c1",
      "metadata": {
        "id": "e370f1c1",
        "outputId": "96a9a7a7-7d45-4367-e91f-e35e61a61a00"
      },
      "outputs": [
        {
          "name": "stdout",
          "output_type": "stream",
          "text": [
            "Training error:  0.381\n",
            "validation error:  0.4006734006734007\n"
          ]
        }
      ],
      "source": [
        "learner = ml.linearC.linearClassify()\n",
        "learner.train(XtrP, Yt, initStep= 0.5, stopTol=1e-6, stopIter=1500)\n",
        "\n",
        "print(\"Training error: \", learner.err(XtrP, Yt))\n",
        "print(\"validation error: \", learner.err(XvaP, Yva))"
      ]
    },
    {
      "cell_type": "code",
      "execution_count": null,
      "id": "947f3b15",
      "metadata": {
        "id": "947f3b15"
      },
      "outputs": [],
      "source": []
    },
    {
      "cell_type": "code",
      "execution_count": null,
      "id": "80dccf56",
      "metadata": {
        "id": "80dccf56",
        "outputId": "0b7fcf77-f1d5-4113-f8ad-0aec78eb7950"
      },
      "outputs": [
        {
          "name": "stderr",
          "output_type": "stream",
          "text": [
            "/Users/lynnpham/Desktop/CS 178/Final project/mltools/base.py:97: RuntimeWarning: divide by zero encountered in log\n",
            "  return - np.mean( np.log( P[ np.arange(M), Y ] ) ) # evaluate\n",
            "/Users/lynnpham/Desktop/CS 178/Final project/mltools/linearC.py:134: RuntimeWarning: invalid value encountered in double_scalars\n",
            "  done = (it > stopIter) or ( (it>1) and (abs(Jsur[-1]-Jsur[-2])<stopTol) )\n"
          ]
        },
        {
          "name": "stdout",
          "output_type": "stream",
          "text": [
            "Training error:  0.37825\n",
            "validation error:  0.3925925925925926\n",
            "      Train AUC: 0.6772\n",
            " Validation AUC: 0.5085\n"
          ]
        }
      ],
      "source": [
        "learner = ml.linearC.linearClassify()\n",
        "learner.train(XtrP, Yt, initStep= 0.5, stopTol=1e-6, stopIter=1000)\n",
        "\n",
        "print(\"Training error: \", learner.err(XtrP, Yt))\n",
        "print(\"validation error: \", learner.err(XvaP, Yva))\n",
        "print(\"{0:>15}: {1:.4f}\".format('Train AUC',learner.auc(XtrP, Yt)))\n",
        "print(\"{0:>15}: {1:.4f}\".format('Validation AUC', learner.auc(Xva, Yva)))"
      ]
    },
    {
      "cell_type": "code",
      "execution_count": null,
      "id": "1479d5f9",
      "metadata": {
        "id": "1479d5f9",
        "outputId": "a8effb4a-e4bd-4266-fe9c-cda3c5211226"
      },
      "outputs": [
        {
          "name": "stdout",
          "output_type": "stream",
          "text": [
            "Training error:  0.3775\n",
            "validation error:  0.39595959595959596\n",
            "      Train AUC: 0.6790\n",
            " Validation AUC: 0.5085\n"
          ]
        }
      ],
      "source": [
        "learner = ml.linearC.linearClassify()\n",
        "learner.train(XtrP, Yt, initStep= 0.1, stopTol=1e-6, stopIter=1000)\n",
        "\n",
        "print(\"Training error: \", learner.err(XtrP, Yt))\n",
        "print(\"validation error: \", learner.err(XvaP, Yva))\n",
        "print(\"{0:>15}: {1:.4f}\".format('Train AUC',learner.auc(XtrP, Yt)))\n",
        "print(\"{0:>15}: {1:.4f}\".format('Validation AUC', learner.auc(Xva, Yva)))"
      ]
    },
    {
      "cell_type": "code",
      "execution_count": null,
      "id": "6baa3f92",
      "metadata": {
        "id": "6baa3f92",
        "outputId": "8a4cea8a-5a68-4330-c0b8-57bbc4674ece"
      },
      "outputs": [
        {
          "name": "stdout",
          "output_type": "stream",
          "text": [
            "Training error:  0.50125\n",
            "validation error:  0.5057239057239057\n",
            "      Train AUC: 0.4952\n",
            " Validation AUC: 0.4919\n"
          ]
        }
      ],
      "source": [
        "learner = ml.linearC.linearClassify()\n",
        "learner.train(XtrP, Yt, initStep= 0, stopTol=1e-6, stopIter=1000)\n",
        "\n",
        "print(\"Training error: \", learner.err(XtrP, Yt))\n",
        "print(\"validation error: \", learner.err(XvaP, Yva))\n",
        "print(\"{0:>15}: {1:.4f}\".format('Train AUC',learner.auc(XtrP, Yt)))\n",
        "print(\"{0:>15}: {1:.4f}\".format('Validation AUC', learner.auc(Xva, Yva)))"
      ]
    },
    {
      "cell_type": "code",
      "execution_count": null,
      "id": "e12400ec",
      "metadata": {
        "id": "e12400ec",
        "outputId": "ac280859-ddd2-48ec-e300-586d3f9022b1"
      },
      "outputs": [
        {
          "name": "stdout",
          "output_type": "stream",
          "text": [
            "Training error:  0.37975\n",
            "validation error:  0.4\n",
            "      Train AUC: 0.6787\n",
            " Validation AUC: 0.5092\n"
          ]
        }
      ],
      "source": [
        "learner = ml.linearC.linearClassify()\n",
        "learner.train(XtrP, Yt, initStep= 0.3, stopTol=1e-6, stopIter=1000)\n",
        "\n",
        "print(\"Training error: \", learner.err(XtrP, Yt))\n",
        "print(\"validation error: \", learner.err(XvaP, Yva))\n",
        "print(\"{0:>15}: {1:.4f}\".format('Train AUC',learner.auc(XtrP, Yt)))\n",
        "print(\"{0:>15}: {1:.4f}\".format('Validation AUC', learner.auc(Xva, Yva)))"
      ]
    },
    {
      "cell_type": "code",
      "execution_count": null,
      "id": "56df0c50",
      "metadata": {
        "id": "56df0c50"
      },
      "outputs": [],
      "source": [
        "tr_err = np.array([0.50125, 0.3775, 0.3775, 0.37975, 0.37825])\n",
        "va_err = np.array([0.50572, 0.3959, 0.3939, 0.4, 0.39259])\n",
        "init = np.array([0, 0.1, 0.2, 0.3, 0.5])"
      ]
    },
    {
      "cell_type": "code",
      "execution_count": null,
      "id": "937d3684",
      "metadata": {
        "id": "937d3684",
        "outputId": "e75e2224-f2e2-46d2-ba54-fa793a921dbe"
      },
      "outputs": [
        {
          "data": {
            "text/plain": [
              "[<matplotlib.lines.Line2D at 0x7fb54d0b81c0>]"
            ]
          },
          "execution_count": 19,
          "metadata": {},
          "output_type": "execute_result"
        },
        {
          "data": {
            "image/png": "[encoded data removed]",
            "text/plain": [
              "<Figure size 576x360 with 1 Axes>"
            ]
          },
          "metadata": {
            "needs_background": "light"
          },
          "output_type": "display_data"
        }
      ],
      "source": [
        "f, ax = plt.subplots(1, 1, figsize=(8, 5))\n",
        "ax.plot(init, tr_err)\n",
        "ax.plot(init, va_err)"
      ]
    },
    {
      "cell_type": "code",
      "execution_count": null,
      "id": "ae7d3662",
      "metadata": {
        "id": "ae7d3662"
      },
      "outputs": [],
      "source": [
        "?ml.rescale"
      ]
    },
    {
      "cell_type": "code",
      "execution_count": null,
      "id": "29890bd6",
      "metadata": {
        "id": "29890bd6"
      },
      "outputs": [],
      "source": [
        "learner = ml.linearC.linearClassify()\n",
        "learner.train(XtrP, Yt, initStep= 0, stopTol=1e-6, stopIter=1000)\n",
        "\n",
        "print(\"Training error: \", learner.err(XtrP, Yt))\n",
        "print(\"validation error: \", learner.err(XvaP, Yva))\n",
        "print(\"{0:>15}: {1:.4f}\".format('Train AUC',learner.auc(XtrP, Yt)))\n",
        "print(\"{0:>15}: {1:.4f}\".format('Validation AUC', learner.auc(Xva, Yva)))"
      ]
    }
  ],
  "metadata": {
    "kernelspec": {
      "display_name": "Python 3 (ipykernel)",
      "language": "python",
      "name": "python3"
    },
    "language_info": {
      "codemirror_mode": {
        "name": "ipython",
        "version": 3
      },
      "file_extension": ".py",
      "mimetype": "text/x-python",
      "name": "python",
      "nbconvert_exporter": "python",
      "pygments_lexer": "ipython3",
      "version": "3.9.12"
    },
    "colab": {
      "provenance": []
    }
  },
  "nbformat": 4,
  "nbformat_minor": 5
}